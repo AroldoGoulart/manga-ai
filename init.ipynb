{
  "cells": [
    {
      "cell_type": "code",
      "execution_count": 1,
      "metadata": {},
      "outputs": [],
      "source": [
        "import tensorflow as tf\n",
        "from tensorflow import keras\n",
        "\n",
        "import pathlib\n",
        "import numpy as np\n",
        "import matplotlib.pyplot as plt"
      ]
    },
    {
      "cell_type": "code",
      "execution_count": 17,
      "metadata": {},
      "outputs": [],
      "source": [
        "data_dir = pathlib.Path(\"/Users/userfolder/faculdade/slime-ia/Dados\")"
      ]
    },
    {
      "cell_type": "code",
      "execution_count": 18,
      "metadata": {},
      "outputs": [
        {
          "name": "stdout",
          "output_type": "stream",
          "text": [
            "Número de mangas na pasta: 122\n",
            "Número de novels na pasta: 115\n",
            "Número de manhuas na pasta: 579\n",
            "Número de webcomic na pasta: 102\n"
          ]
        }
      ],
      "source": [
        "# Defina o diretório que você deseja verificar\n",
        "mangas = pathlib.Path(\"/Users/userfolder/faculdade/slime-ia/Dados/manga\")\n",
        "\n",
        "# Use o método glob() para listar todos os arquivos no diretório\n",
        "arquivos_na_pasta = list(mangas.glob(\"*.png\"))\n",
        "arquivos_na_pasta2 = list(mangas.glob(\"*.jpg\"))\n",
        "arquivos_na_pasta3 = list(mangas.glob(\"*.jpeg\"))\n",
        "\n",
        "# Use a função len() para contar o número de arquivos\n",
        "numero_de_arquivos = len(arquivos_na_pasta) + len(arquivos_na_pasta2) + len(arquivos_na_pasta3)\n",
        "\n",
        "# Exiba o número de arquivos\n",
        "print(f\"Número de mangas na pasta: {numero_de_arquivos}\")\n",
        "\n",
        "# Defina o diretório que você deseja verificar\n",
        "mangas = pathlib.Path(\"/Users/userfolder/faculdade/slime-ia/Dados/novels\")\n",
        "\n",
        "# Use o método glob() para listar todos os arquivos no diretório\n",
        "arquivos_na_pasta = list(mangas.glob(\"*.png\"))\n",
        "arquivos_na_pasta2 = list(mangas.glob(\"*.jpg\"))\n",
        "arquivos_na_pasta3 = list(mangas.glob(\"*.jpeg\"))\n",
        "\n",
        "# Use a função len() para contar o número de arquivos\n",
        "numero_de_arquivos = len(arquivos_na_pasta) + len(arquivos_na_pasta2) + len(arquivos_na_pasta3)\n",
        "\n",
        "# Exiba o número de arquivos\n",
        "print(f\"Número de novels na pasta: {numero_de_arquivos}\")\n",
        "\n",
        "# Defina o diretório que você deseja verificar\n",
        "mangas = pathlib.Path(\"/Users/userfolder/faculdade/slime-ia/Dados/manhua\")\n",
        "\n",
        "# Use o método glob() para listar todos os arquivos no diretório\n",
        "arquivos_na_pasta = list(mangas.glob(\"*.png\"))\n",
        "arquivos_na_pasta2 = list(mangas.glob(\"*.jpg\"))\n",
        "arquivos_na_pasta3 = list(mangas.glob(\"*.jpeg\"))\n",
        "\n",
        "# Use a função len() para contar o número de arquivos\n",
        "numero_de_arquivos = len(arquivos_na_pasta) + len(arquivos_na_pasta2) + len(arquivos_na_pasta3)\n",
        "\n",
        "# Exiba o número de arquivos\n",
        "print(f\"Número de manhuas na pasta: {numero_de_arquivos}\")\n",
        "\n",
        "# Defina o diretório que você deseja verificar\n",
        "mangas = pathlib.Path(\"/Users/userfolder/faculdade/slime-ia/Dados/webcomic\")\n",
        "\n",
        "# Use o método glob() para listar todos os arquivos no diretório\n",
        "arquivos_na_pasta = list(mangas.glob(\"*.png\"))\n",
        "arquivos_na_pasta2 = list(mangas.glob(\"*.jpg\"))\n",
        "arquivos_na_pasta3 = list(mangas.glob(\"*.jpeg\"))\n",
        "\n",
        "# Use a função len() para contar o número de arquivos\n",
        "numero_de_arquivos = len(arquivos_na_pasta) + len(arquivos_na_pasta2) + len(arquivos_na_pasta3)\n",
        "\n",
        "# Exiba o número de arquivos\n",
        "print(f\"Número de webcomic na pasta: {numero_de_arquivos}\")"
      ]
    },
    {
      "cell_type": "code",
      "execution_count": 19,
      "metadata": {},
      "outputs": [],
      "source": [
        "img_height = 700\n",
        "img_width = 500\n",
        "batch_size = 32"
      ]
    },
    {
      "cell_type": "code",
      "execution_count": 20,
      "metadata": {},
      "outputs": [
        {
          "name": "stdout",
          "output_type": "stream",
          "text": [
            "Found 918 files belonging to 4 classes.\n",
            "Using 735 files for training.\n"
          ]
        }
      ],
      "source": [
        "dataset_treino = keras.utils.image_dataset_from_directory(\n",
        "    data_dir,\n",
        "    validation_split = 0.2,\n",
        "    subset=\"training\",\n",
        "    seed=42,\n",
        "    image_size=(img_height, img_width),\n",
        "    batch_size = batch_size\n",
        ")"
      ]
    },
    {
      "cell_type": "code",
      "execution_count": 21,
      "metadata": {},
      "outputs": [
        {
          "name": "stdout",
          "output_type": "stream",
          "text": [
            "Found 918 files belonging to 4 classes.\n",
            "Using 183 files for validation.\n"
          ]
        }
      ],
      "source": [
        "dataset_validacao = keras.utils.image_dataset_from_directory(\n",
        "    data_dir,\n",
        "    validation_split = 0.2,\n",
        "    subset=\"validation\",\n",
        "    seed=42,\n",
        "    image_size=(img_height, img_width),\n",
        "    batch_size = batch_size\n",
        ")"
      ]
    },
    {
      "cell_type": "code",
      "execution_count": 22,
      "metadata": {},
      "outputs": [
        {
          "name": "stdout",
          "output_type": "stream",
          "text": [
            "['manga', 'manhua', 'novels', 'webcomic']\n"
          ]
        }
      ],
      "source": [
        "class_names = dataset_treino.class_names\n",
        "print(class_names)"
      ]
    },
    {
      "cell_type": "code",
      "execution_count": 23,
      "metadata": {},
      "outputs": [
        {
          "name": "stdout",
          "output_type": "stream",
          "text": [
            "4\n"
          ]
        }
      ],
      "source": [
        "num_classes = len(class_names)\n",
        "print(num_classes)"
      ]
    },
    {
      "cell_type": "code",
      "execution_count": 24,
      "metadata": {},
      "outputs": [],
      "source": [
        "## antes, ta dando overfitting\n",
        "model = keras.models.Sequential([\n",
        "  keras.layers.Rescaling(1./255, input_shape=(img_height, img_width, 3)),\n",
        "  keras.layers.Conv2D(16, 3, padding='same', activation='relu'),\n",
        "  keras.layers.MaxPooling2D(),\n",
        "  keras.layers.Conv2D(32, 3, padding='same', activation='relu'),\n",
        "  keras.layers.MaxPooling2D(),\n",
        "  keras.layers.Conv2D(64, 3, padding='same', activation='relu'),\n",
        "  keras.layers.MaxPooling2D(),\n",
        "  keras.layers.Dropout(0.2),\n",
        "  keras.layers.Flatten(),\n",
        "  keras.layers.Dense(128, activation='relu'),\n",
        "  keras.layers.Dense(num_classes, activation = 'softmax')\n",
        "])"
      ]
    },
    {
      "cell_type": "code",
      "execution_count": 31,
      "metadata": {},
      "outputs": [],
      "source": [
        "model = keras.models.Sequential([\n",
        "    keras.layers.Rescaling(1./255, input_shape=(img_height, img_width, 3)),\n",
        "    \n",
        "    # Camadas de convolução\n",
        "    keras.layers.Conv2D(32, (3, 3), padding='same', activation='relu'),\n",
        "    keras.layers.MaxPooling2D((2, 2)),\n",
        "    \n",
        "    keras.layers.Conv2D(64, (3, 3), padding='same', activation='relu'),\n",
        "    keras.layers.MaxPooling2D((2, 2)),\n",
        "    \n",
        "    keras.layers.Conv2D(128, (3, 3), padding='same', activation='relu'),\n",
        "    keras.layers.MaxPooling2D((2, 2)),\n",
        "    \n",
        "    # Camada de regularização Dropout\n",
        "    keras.layers.Dropout(0.3),\n",
        "    \n",
        "    # Camada Flatten para preparar a entrada para a rede neural densa\n",
        "    keras.layers.Flatten(),\n",
        "    \n",
        "    # Camadas Densas\n",
        "    keras.layers.Dense(256, activation='relu'),\n",
        "    \n",
        "    # Camada de saída com ativação softmax para classificação multiclasses\n",
        "    keras.layers.Dense(num_classes, activation='softmax')\n",
        "])"
      ]
    },
    {
      "cell_type": "code",
      "execution_count": 32,
      "metadata": {},
      "outputs": [],
      "source": [
        "model.compile(optimizer='adam',\n",
        "              loss='sparse_categorical_crossentropy',\n",
        "              metrics=['accuracy'])"
      ]
    },
    {
      "cell_type": "code",
      "execution_count": 33,
      "metadata": {},
      "outputs": [
        {
          "name": "stdout",
          "output_type": "stream",
          "text": [
            "Model: \"sequential_2\"\n",
            "_________________________________________________________________\n",
            " Layer (type)                Output Shape              Param #   \n",
            "=================================================================\n",
            " rescaling_2 (Rescaling)     (None, 700, 500, 3)       0         \n",
            "                                                                 \n",
            " conv2d_6 (Conv2D)           (None, 700, 500, 32)      896       \n",
            "                                                                 \n",
            " max_pooling2d_6 (MaxPoolin  (None, 350, 250, 32)      0         \n",
            " g2D)                                                            \n",
            "                                                                 \n",
            " conv2d_7 (Conv2D)           (None, 350, 250, 64)      18496     \n",
            "                                                                 \n",
            " max_pooling2d_7 (MaxPoolin  (None, 175, 125, 64)      0         \n",
            " g2D)                                                            \n",
            "                                                                 \n",
            " conv2d_8 (Conv2D)           (None, 175, 125, 128)     73856     \n",
            "                                                                 \n",
            " max_pooling2d_8 (MaxPoolin  (None, 87, 62, 128)       0         \n",
            " g2D)                                                            \n",
            "                                                                 \n",
            " dropout_2 (Dropout)         (None, 87, 62, 128)       0         \n",
            "                                                                 \n",
            " flatten_2 (Flatten)         (None, 690432)            0         \n",
            "                                                                 \n",
            " dense_4 (Dense)             (None, 256)               176750848 \n",
            "                                                                 \n",
            " dense_5 (Dense)             (None, 4)                 1028      \n",
            "                                                                 \n",
            "=================================================================\n",
            "Total params: 176845124 (674.61 MB)\n",
            "Trainable params: 176845124 (674.61 MB)\n",
            "Non-trainable params: 0 (0.00 Byte)\n",
            "_________________________________________________________________\n"
          ]
        }
      ],
      "source": [
        "model.build()\n",
        "model.summary()"
      ]
    },
    {
      "cell_type": "code",
      "execution_count": 34,
      "metadata": {},
      "outputs": [
        {
          "name": "stdout",
          "output_type": "stream",
          "text": [
            "Epoch 1/9\n",
            "23/23 [==============================] - ETA: 0s - loss: 12.0615 - accuracy: 0.5156"
          ]
        },
        {
          "name": "stderr",
          "output_type": "stream",
          "text": [
            "/Users/aroldogoulartbarros/miniforge3/lib/python3.10/site-packages/keras/src/engine/training.py:3000: UserWarning: You are saving your model as an HDF5 file via `model.save()`. This file format is considered legacy. We recommend using instead the native Keras format, e.g. `model.save('my_model.keras')`.\n",
            "  saving_api.save_model(\n"
          ]
        },
        {
          "name": "stdout",
          "output_type": "stream",
          "text": [
            "23/23 [==============================] - 241s 10s/step - loss: 12.0615 - accuracy: 0.5156 - val_loss: 0.7735 - val_accuracy: 0.6940\n",
            "Epoch 2/9\n",
            "23/23 [==============================] - 219s 9s/step - loss: 0.5287 - accuracy: 0.8286 - val_loss: 0.3873 - val_accuracy: 0.8743\n",
            "Epoch 3/9\n",
            "23/23 [==============================] - 216s 9s/step - loss: 0.1913 - accuracy: 0.9306 - val_loss: 0.2273 - val_accuracy: 0.9235\n",
            "Epoch 4/9\n",
            "23/23 [==============================] - 230s 10s/step - loss: 0.0833 - accuracy: 0.9714 - val_loss: 0.1329 - val_accuracy: 0.9563\n",
            "Epoch 5/9\n",
            "23/23 [==============================] - 251s 11s/step - loss: 0.0291 - accuracy: 0.9918 - val_loss: 0.1581 - val_accuracy: 0.9617\n",
            "Epoch 6/9\n",
            "23/23 [==============================] - 264s 11s/step - loss: 0.0217 - accuracy: 0.9946 - val_loss: 0.1486 - val_accuracy: 0.9563\n",
            "Epoch 7/9\n",
            "23/23 [==============================] - 238s 10s/step - loss: 0.0108 - accuracy: 0.9986 - val_loss: 0.1306 - val_accuracy: 0.9617\n",
            "Epoch 8/9\n",
            "23/23 [==============================] - 235s 10s/step - loss: 0.0016 - accuracy: 1.0000 - val_loss: 0.1289 - val_accuracy: 0.9727\n",
            "Epoch 9/9\n",
            "23/23 [==============================] - 236s 10s/step - loss: 5.1868e-04 - accuracy: 1.0000 - val_loss: 0.1530 - val_accuracy: 0.9617\n"
          ]
        }
      ],
      "source": [
        "epochs = 9\n",
        "from tensorflow.keras.callbacks import ModelCheckpoint\n",
        "\n",
        "checkpoint = ModelCheckpoint(\"com_imagens_maioresv3.h5\", \n",
        "                             )  # Optionally, you can use other options like 'save_weights_only'\n",
        "\n",
        "history = model.fit(\n",
        "    dataset_treino,\n",
        "    validation_data=dataset_validacao,\n",
        "    epochs=epochs,\n",
        "    callbacks=[checkpoint]  # Pass the checkpoint callback here\n",
        ")"
      ]
    },
    {
      "cell_type": "code",
      "execution_count": 35,
      "metadata": {},
      "outputs": [],
      "source": [
        "acc = history.history['accuracy']\n",
        "val_acc = history.history['val_accuracy']\n",
        "\n",
        "loss = history.history['loss']\n",
        "val_loss = history.history['val_loss']\n",
        "\n",
        "epochs_range = range(epochs)"
      ]
    },
    {
      "cell_type": "code",
      "execution_count": 36,
      "metadata": {},
      "outputs": [
        {
          "data": {
            "image/png": "[encoded data removed]",
            "text/plain": [
              "<Figure size 800x800 with 2 Axes>"
            ]
          },
          "metadata": {},
          "output_type": "display_data"
        }
      ],
      "source": [
        "plt.figure(figsize=(8, 8))\n",
        "plt.subplot(1, 2, 1)\n",
        "plt.plot(epochs_range, acc, label='Training Accuracy')\n",
        "plt.plot(epochs_range, val_acc, label='Validation Accuracy')\n",
        "plt.legend(loc='lower right')\n",
        "plt.title('Training and Validation Accuracy')\n",
        "\n",
        "plt.subplot(1, 2, 2)\n",
        "plt.plot(epochs_range, loss, label='Training Loss')\n",
        "plt.plot(epochs_range, val_loss, label='Validation Loss')\n",
        "plt.legend(loc='upper right')\n",
        "plt.title('Training and Validation Loss')\n",
        "plt.show()"
      ]
    }
  ],
  "metadata": {
    "kernelspec": {
      "display_name": "Python 3",
      "language": "python",
      "name": "python3"
    },
    "language_info": {
      "codemirror_mode": {
        "name": "ipython",
        "version": 3
      },
      "file_extension": ".py",
      "mimetype": "text/x-python",
      "name": "python",
      "nbconvert_exporter": "python",
      "pygments_lexer": "ipython3",
      "version": "3.10.12"
    },
    "orig_nbformat": 4
  },
  "nbformat": 4,
  "nbformat_minor": 2
}
