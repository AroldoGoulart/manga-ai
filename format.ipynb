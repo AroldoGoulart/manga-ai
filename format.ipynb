{
  "cells": [
    {
      "cell_type": "code",
      "execution_count": 1,
      "metadata": {},
      "outputs": [],
      "source": [
        "# pegar dados de imagem e cortar em partes de de no max 2360 de altrua\n",
        "import pathlib\n",
        "import os"
      ]
    },
    {
      "cell_type": "code",
      "execution_count": 2,
      "metadata": {},
      "outputs": [],
      "source": [
        "# pegar dados de imagem e cortar em partes de de no max 2360 de altrua\n",
        "import pathlib\n",
        "data_dir = pathlib.Path(\"/Users/userfolder/faculdade/slime-ia/Original/base_original/manhua - cópia\")\n",
        "output_dir = pathlib.Path(\"/Users/userfolder/faculdade/slime-ia/Testes\")\n",
        "\n",
        "max_height = 1400\n",
        "os.makedirs(output_dir, exist_ok=True)"
      ]
    },
    {
      "cell_type": "code",
      "execution_count": 3,
      "metadata": {},
      "outputs": [],
      "source": [
        "from PIL import Image\n",
        "\n",
        "# Lista todos os arquivos de imagem no diretório de entrada\n",
        "image_files = list(data_dir.glob(\"*.jpg\")) + list(data_dir.glob(\"*.jpeg\"))\n",
        "\n",
        "for image_file in image_files:\n",
        "    # Abra a imagem\n",
        "    img = Image.open(image_file)\n",
        "\n",
        "    width, height = img.size\n",
        "\n",
        "    # Verifique se a altura da imagem é maior que a altura máxima desejada\n",
        "    if height > max_height:\n",
        "        num_parts = height // max_height\n",
        "        remainder = height % max_height\n",
        "\n",
        "        for i in range(num_parts):\n",
        "            # Calcule as coordenadas de recorte\n",
        "            top = i * max_height\n",
        "            bottom = (i + 1) * max_height\n",
        "\n",
        "            # Corte a parte da imagem\n",
        "            part = img.crop((0, top, width, bottom))\n",
        "\n",
        "            # Salve a parte cortada no diretório de saída\n",
        "            part.save(output_dir / f\"{image_file.stem}_part{i + 1}.jpg\")\n",
        "\n",
        "        # Se houver uma parte restante, corte-a também\n",
        "        if remainder > 0:\n",
        "            top = num_parts * max_height\n",
        "            bottom = height\n",
        "            part = img.crop((0, top, width, bottom))\n",
        "            part.save(output_dir / f\"{image_file.stem}_part{num_parts + 1}.jpg\")\n",
        "    else:\n",
        "        # Se a imagem for menor que a altura máxima desejada, simplesmente copie-a para o diretório de saída\n",
        "        img.save(output_dir / image_file.name)\n"
      ]
    },
    {
      "cell_type": "code",
      "execution_count": null,
      "metadata": {},
      "outputs": [],
      "source": []
    }
  ],
  "metadata": {
    "kernelspec": {
      "display_name": "base",
      "language": "python",
      "name": "python3"
    },
    "language_info": {
      "codemirror_mode": {
        "name": "ipython",
        "version": 3
      },
      "file_extension": ".py",
      "mimetype": "text/x-python",
      "name": "python",
      "nbconvert_exporter": "python",
      "pygments_lexer": "ipython3",
      "version": "3.10.12"
    },
    "orig_nbformat": 4
  },
  "nbformat": 4,
  "nbformat_minor": 2
}
